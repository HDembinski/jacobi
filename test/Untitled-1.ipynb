{
 "cells": [
  {
   "cell_type": "code",
   "execution_count": 4,
   "metadata": {},
   "outputs": [],
   "source": [
    "import gzip\n",
    "import pickle\n",
    "from jacobi import propagate\n",
    "from pathlib import Path\n",
    "import numpy as np\n",
    "\n",
    "rng = np.random.default_rng(1)\n",
    "\n",
    "with gzip.open(\"error_arrays.pkl.gz\") as f:\n",
    "    a, a_var, b, b_var = pickle.load(f)"
   ]
  },
  {
   "cell_type": "code",
   "execution_count": null,
   "metadata": {},
   "outputs": [],
   "source": [
    "a = a[best]\n",
    "a_var = a_var[best]\n",
    "b = b[best]\n",
    "b_var = b_var[best]"
   ]
  },
  {
   "cell_type": "code",
   "execution_count": null,
   "metadata": {},
   "outputs": [],
   "source": [
    "best = None"
   ]
  },
  {
   "cell_type": "code",
   "execution_count": 9,
   "metadata": {},
   "outputs": [
    {
     "name": "stdout",
     "output_type": "stream",
     "text": [
      "best 31\n"
     ]
    }
   ],
   "source": [
    "\n",
    "for i in range(1000):\n",
    "    mask = rng.uniform(0, 1, size=a.shape) > 0.5\n",
    "\n",
    "    if np.sum(mask) == 0: continue\n",
    "\n",
    "    ai = a[mask]\n",
    "    ai_var = a_var[mask]\n",
    "    bi = b[mask]\n",
    "    bi_var = b_var[mask]\n",
    "\n",
    "    def f(a, b):\n",
    "        return a * b\n",
    "\n",
    "    c, c_var = propagate(f, ai, ai_var, bi, bi_var)\n",
    "\n",
    "    if np.all(np.isnan(c_var)):\n",
    "        if best is None:\n",
    "            best = mask\n",
    "        else:\n",
    "            if np.sum(mask) < np.sum(best):\n",
    "                best = mask\n",
    "                print(f\"best {np.sum(best)}\")\n"
   ]
  },
  {
   "cell_type": "code",
   "execution_count": 13,
   "metadata": {},
   "outputs": [
    {
     "data": {
      "text/plain": [
       "array([1.04671868e-03, 4.64290157e-05, 1.82166247e-05, 6.81167241e-04,\n",
       "       2.45354167e-03, 4.78091395e-04, 1.67943003e-04, 4.10409049e-05,\n",
       "       1.24692735e-04, 5.26068355e-05, 2.31907643e-05, 2.63940402e-05,\n",
       "       2.28672527e-04, 0.00000000e+00, 2.17812131e-05, 2.92027443e-04,\n",
       "       0.00000000e+00, 0.00000000e+00, 0.00000000e+00, 0.00000000e+00,\n",
       "       4.17388538e-06, 2.82526004e-05, 1.25796566e-04, 1.66067899e-03,\n",
       "       0.00000000e+00, 0.00000000e+00, 0.00000000e+00, 0.00000000e+00,\n",
       "       0.00000000e+00, 1.86618707e-04, 7.84779137e-04])"
      ]
     },
     "execution_count": 13,
     "metadata": {},
     "output_type": "execute_result"
    }
   ],
   "source": [
    "b_var[best]"
   ]
  },
  {
   "cell_type": "code",
   "execution_count": null,
   "metadata": {},
   "outputs": [],
   "source": []
  }
 ],
 "metadata": {
  "kernelspec": {
   "display_name": "Python 3.10.8 ('venv': venv)",
   "language": "python",
   "name": "python3"
  },
  "language_info": {
   "codemirror_mode": {
    "name": "ipython",
    "version": 3
   },
   "file_extension": ".py",
   "mimetype": "text/x-python",
   "name": "python",
   "nbconvert_exporter": "python",
   "pygments_lexer": "ipython3",
   "version": "3.10.8"
  },
  "orig_nbformat": 4,
  "vscode": {
   "interpreter": {
    "hash": "d2f38bb2cd6c72c971581fd65aa33d771e91734dcc3715df26c859a426a25f42"
   }
  }
 },
 "nbformat": 4,
 "nbformat_minor": 2
}
